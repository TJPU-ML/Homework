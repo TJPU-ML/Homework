{
 "cells": [
  {
   "cell_type": "code",
   "execution_count": 152,
   "metadata": {},
   "outputs": [],
   "source": [
    "import numpy as np\n",
    "from sklearn import model_selection\n",
    "from sklearn.datasets import load_iris\n",
    "iris = load_iris()\n",
    "#取前两列数据\n",
    "X = iris.data[:100,:2]\n",
    "y = iris.target[:100]\n",
    "#print(Y)\n",
    "# X_train, X_test, y_train, y_test\n",
    "m, n = np.shape(X)\n",
    "X_ex = np.c_[X, np.ones(m)]  # 将变量矩阵扩展为[x,1]\n",
    "# print (X_ex)\n",
    "X_train, X_test, y_train, y_test = model_selection.train_test_split(X_ex, y, test_size=0.1, random_state=1234)"
   ]
  },
  {
   "cell_type": "code",
   "execution_count": 153,
   "metadata": {
    "scrolled": true
   },
   "outputs": [
    {
     "data": {
      "image/png": "[encoded data removed]",
      "text/plain": [
       "<Figure size 432x288 with 1 Axes>"
      ]
     },
     "metadata": {},
     "output_type": "display_data"
    }
   ],
   "source": [
    "\n",
    "#Sigmoid函数曲线\n",
    "def Sigmoid(x):\n",
    "    return 1.0 / (1.0 + np.exp(-x))\n",
    "\n",
    "x = np.arange(-10, 10, 0.1)\n",
    "h = Sigmoid(x)  \n",
    "plt.plot(x, h)\n",
    "plt.axvline(0.0, color='K')\n",
    "plt.axhline(y=0.5, ls='dotted', color='K')\n",
    "plt.yticks([0.0,  0.5, 1.0])     #  纵坐标\n",
    "plt.title(r'Sigmoid function curve', fontsize = 12)\n",
    "plt.text(5,0.7,r'$y = \\frac{1}{1+e^{-z}}$', fontsize = 18)\n",
    "plt.show()"
   ]
  },
  {
   "cell_type": "code",
   "execution_count": 154,
   "metadata": {},
   "outputs": [
    {
     "name": "stdout",
     "output_type": "stream",
     "text": [
      "[[5. 0.]\n",
      " [0. 5.]]\n",
      "模型测试集的精度：1.000\n"
     ]
    }
   ],
   "source": [
    "def likelihood_sub(x, y, beta): #最大似然估计似然函数\n",
    "\n",
    "    return -y * np.dot(beta, x.T) + np.math.log(1 + np.math.exp(np.dot(beta, x.T)))\n",
    "\n",
    "\n",
    "def likelihood(X, y, beta): #损失函数\n",
    "\n",
    "    sum = 0\n",
    "    m, n = np.shape(X)\n",
    "    for i in range(m):\n",
    "        sum += likelihood_sub(X[i], y[i], beta)\n",
    "\n",
    "    return sum\n",
    "\n",
    "\n",
    "# 梯度下降法\n",
    "def gradDscent(X, y):  \n",
    "    \n",
    "    import matplotlib.pyplot as plt\n",
    "\n",
    "    h = 0.005          # 学习率\n",
    "    max_times = 1000  # 迭代次数\n",
    "    m, n = np.shape(X)\n",
    "    \n",
    "    beta = np.zeros(n)  # 参数初始化\n",
    "    delta_beta = np.ones(n) * h\n",
    "\n",
    "    llh = 0\n",
    "    llh_temp = 0\n",
    "\n",
    "    for i in range(max_times):\n",
    "        beta_temp = beta\n",
    "\n",
    "        for j in range(n):\n",
    "            beta[j] += delta_beta[j]\n",
    "            llh_tmp = likelihood(X, y, beta)\n",
    "            delta_beta[j] = -h * (llh_tmp - llh) / delta_beta[j]\n",
    "\n",
    "        beta = beta_temp + delta_beta\n",
    "        llh = likelihood(X, y, beta)\n",
    "        \n",
    "    return beta\n",
    "\n",
    "\n",
    "def sigmoid(x, beta): \n",
    "    return 1.0 / (1 + np.math.exp(- np.dot(beta, x)))\n",
    "\n",
    "\n",
    "def predict(X, beta): #预测函数\n",
    "\n",
    "    m, n = np.shape(X)\n",
    "    y = np.zeros(m)\n",
    "\n",
    "    for i in range(m):\n",
    "        if sigmoid(X[i], beta) > 0.5: y[i] = 1;\n",
    "    return y\n",
    "    return beta\n",
    "\n",
    "\n",
    "beta = gradDscent(X_train, y_train)\n",
    "\n",
    "# 调用预测函数获得预测值\n",
    "y_pred = predict(X_test, beta)\n",
    "\n",
    "m_test = np.shape(X_test)[0]\n",
    " #计算混淆矩阵和预测精度\n",
    "cfmat = np.zeros((2, 2))\n",
    "num = 0\n",
    "for i in range(m_test):\n",
    "    if y_pred[i] == y_test[i] == 0:\n",
    "        cfmat[0, 0] += 1\n",
    "        num += 1\n",
    "    elif y_pred[i] == y_test[i] == 1:\n",
    "        cfmat[1, 1] += 1\n",
    "        num += 1\n",
    "    elif y_pred[i] == 0:\n",
    "        cfmat[1, 0] += 1\n",
    "    elif y_pred[i] == 1:\n",
    "        cfmat[0, 1] += 1\n",
    "\n",
    "print(cfmat)\n",
    "rate = num/m_test\n",
    "print('模型测试集的精度：%.3f'%rate)"
   ]
  },
  {
   "cell_type": "code",
   "execution_count": null,
   "metadata": {},
   "outputs": [],
   "source": []
  }
 ],
 "metadata": {
  "kernelspec": {
   "display_name": "Python 3",
   "language": "python",
   "name": "python3"
  },
  "language_info": {
   "codemirror_mode": {
    "name": "ipython",
    "version": 3
   },
   "file_extension": ".py",
   "mimetype": "text/x-python",
   "name": "python",
   "nbconvert_exporter": "python",
   "pygments_lexer": "ipython3",
   "version": "3.6.5"
  }
 },
 "nbformat": 4,
 "nbformat_minor": 2
}
