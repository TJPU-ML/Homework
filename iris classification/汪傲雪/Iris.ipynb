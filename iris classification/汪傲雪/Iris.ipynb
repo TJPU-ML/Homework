{
 "cells": [
  {
   "cell_type": "code",
   "execution_count": 28,
   "metadata": {},
   "outputs": [],
   "source": [
    "import numpy as np\n",
    "import pandas as pd \n",
    "import matplotlib.pyplot as plt\n",
    "%matplotlib inline"
   ]
  },
  {
   "cell_type": "code",
   "execution_count": 29,
   "metadata": {},
   "outputs": [
    {
     "data": {
      "text/html": [
       "<div>\n",
       "<style scoped>\n",
       "    .dataframe tbody tr th:only-of-type {\n",
       "        vertical-align: middle;\n",
       "    }\n",
       "\n",
       "    .dataframe tbody tr th {\n",
       "        vertical-align: top;\n",
       "    }\n",
       "\n",
       "    .dataframe thead th {\n",
       "        text-align: right;\n",
       "    }\n",
       "</style>\n",
       "<table border=\"1\" class=\"dataframe\">\n",
       "  <thead>\n",
       "    <tr style=\"text-align: right;\">\n",
       "      <th></th>\n",
       "      <th>sepal_len</th>\n",
       "      <th>sepal_width</th>\n",
       "      <th>petal_len</th>\n",
       "      <th>petal_width</th>\n",
       "      <th>variety</th>\n",
       "    </tr>\n",
       "  </thead>\n",
       "  <tbody>\n",
       "    <tr>\n",
       "      <th>0</th>\n",
       "      <td>7.0</td>\n",
       "      <td>3.2</td>\n",
       "      <td>4.7</td>\n",
       "      <td>1.4</td>\n",
       "      <td>Iris-versicolor</td>\n",
       "    </tr>\n",
       "    <tr>\n",
       "      <th>1</th>\n",
       "      <td>6.4</td>\n",
       "      <td>3.2</td>\n",
       "      <td>4.5</td>\n",
       "      <td>1.5</td>\n",
       "      <td>Iris-versicolor</td>\n",
       "    </tr>\n",
       "    <tr>\n",
       "      <th>2</th>\n",
       "      <td>6.9</td>\n",
       "      <td>3.1</td>\n",
       "      <td>4.9</td>\n",
       "      <td>1.5</td>\n",
       "      <td>Iris-versicolor</td>\n",
       "    </tr>\n",
       "    <tr>\n",
       "      <th>3</th>\n",
       "      <td>5.5</td>\n",
       "      <td>2.3</td>\n",
       "      <td>4.0</td>\n",
       "      <td>1.3</td>\n",
       "      <td>Iris-versicolor</td>\n",
       "    </tr>\n",
       "    <tr>\n",
       "      <th>4</th>\n",
       "      <td>6.5</td>\n",
       "      <td>2.8</td>\n",
       "      <td>4.6</td>\n",
       "      <td>1.5</td>\n",
       "      <td>Iris-versicolor</td>\n",
       "    </tr>\n",
       "  </tbody>\n",
       "</table>\n",
       "</div>"
      ],
      "text/plain": [
       "   sepal_len  sepal_width  petal_len  petal_width          variety\n",
       "0        7.0          3.2        4.7          1.4  Iris-versicolor\n",
       "1        6.4          3.2        4.5          1.5  Iris-versicolor\n",
       "2        6.9          3.1        4.9          1.5  Iris-versicolor\n",
       "3        5.5          2.3        4.0          1.3  Iris-versicolor\n",
       "4        6.5          2.8        4.6          1.5  Iris-versicolor"
      ]
     },
     "execution_count": 29,
     "metadata": {},
     "output_type": "execute_result"
    }
   ],
   "source": [
    "import os\n",
    "path = 'Iris.csv' # 文件路径\n",
    "pdData = pd.read_csv(path,header = None, names = ['sepal_len','sepal_width','petal_len','petal_width','variety']) # 读取数据\n",
    "pdData.head() # 显示数据"
   ]
  },
  {
   "cell_type": "code",
   "execution_count": 30,
   "metadata": {},
   "outputs": [
    {
     "data": {
      "text/plain": [
       "(100, 5)"
      ]
     },
     "execution_count": 30,
     "metadata": {},
     "output_type": "execute_result"
    }
   ],
   "source": [
    "pdData.shape "
   ]
  },
  {
   "cell_type": "code",
   "execution_count": 31,
   "metadata": {},
   "outputs": [],
   "source": [
    "pdData.loc[pdData['variety'] == 'Iris-versicolor', 'variety'] = 0 # 将数据集的种类分别设为0和1\n",
    "pdData.loc[pdData['variety'] == 'Iris-virginica', 'variety'] = 1"
   ]
  },
  {
   "cell_type": "code",
   "execution_count": 32,
   "metadata": {},
   "outputs": [
    {
     "data": {
      "text/plain": [
       "Text(0,0.5,'petal_width')"
      ]
     },
     "execution_count": 32,
     "metadata": {},
     "output_type": "execute_result"
    },
    {
     "data": {
      "image/png": "[encoded data removed]",
      "text/plain": [
       "<Figure size 864x432 with 1 Axes>"
      ]
     },
     "metadata": {
      "needs_background": "light"
     },
     "output_type": "display_data"
    }
   ],
   "source": [
    "positive = pdData[pdData['variety'] == 1]\n",
    "negative = pdData[pdData['variety'] == 0]\n",
    "\n",
    "fig, ax = plt.subplots(figsize=(12, 6)) # 指定散点图的长和高 \n",
    "ax.scatter(positive['petal_len'], positive['petal_width'], s=30, c='b', marker='o', label='virginica')  # 散点图的属性和标签\n",
    "ax.scatter(negative['petal_len'], negative['petal_width'], s=30, c='r', marker='x', label='versicolor')\n",
    "ax.legend() \n",
    "ax.set_xlabel('petal_len')\n",
    "ax.set_ylabel('petal_width')"
   ]
  },
  {
   "cell_type": "code",
   "execution_count": 33,
   "metadata": {},
   "outputs": [],
   "source": [
    "# sigmoid函数：映射到概率的函数\n",
    "\n",
    "def sigmoid(z):\n",
    "    return 1/(1+np.exp(-z))"
   ]
  },
  {
   "cell_type": "code",
   "execution_count": 34,
   "metadata": {},
   "outputs": [],
   "source": [
    " def model(X,theta):\n",
    "    return sigmoid (np.dot(X,theta.T))"
   ]
  },
  {
   "cell_type": "code",
   "execution_count": 35,
   "metadata": {},
   "outputs": [
    {
     "name": "stderr",
     "output_type": "stream",
     "text": [
      "C:\\Users\\wax\\Anaconda3\\lib\\site-packages\\ipykernel_launcher.py:3: FutureWarning: Method .as_matrix will be removed in a future version. Use .values instead.\n",
      "  This is separate from the ipykernel package so we can avoid doing imports until\n"
     ]
    }
   ],
   "source": [
    "pdData.insert(2,'Ones',1) # 在第三列的地方插入一列全为1的矩阵\n",
    "\n",
    "orig_data = pdData.as_matrix() \n",
    "cols = orig_data.shape[1]\n",
    "X = orig_data[:,2:cols-1] # 选取 3~5列作为X\n",
    "y = orig_data[:,cols-1:cols] # 选取最后一列作为y\n",
    "\n",
    "theta = np.zeros([1,3]) # 构造一个参数矩阵"
   ]
  },
  {
   "cell_type": "code",
   "execution_count": 36,
   "metadata": {},
   "outputs": [
    {
     "data": {
      "text/plain": [
       "array([[1. , 4.7, 1.4],\n",
       "       [1. , 4.5, 1.5],\n",
       "       [1. , 4.9, 1.5],\n",
       "       [1. , 4. , 1.3],\n",
       "       [1. , 4.6, 1.5]])"
      ]
     },
     "execution_count": 36,
     "metadata": {},
     "output_type": "execute_result"
    }
   ],
   "source": [
    "X[:5]"
   ]
  },
  {
   "cell_type": "code",
   "execution_count": 37,
   "metadata": {},
   "outputs": [
    {
     "data": {
      "text/plain": [
       "array([[0.],\n",
       "       [0.],\n",
       "       [0.],\n",
       "       [0.],\n",
       "       [0.]])"
      ]
     },
     "execution_count": 37,
     "metadata": {},
     "output_type": "execute_result"
    }
   ],
   "source": [
    "y[:5]"
   ]
  },
  {
   "cell_type": "code",
   "execution_count": 38,
   "metadata": {},
   "outputs": [
    {
     "data": {
      "text/plain": [
       "array([[0., 0., 0.]])"
      ]
     },
     "execution_count": 38,
     "metadata": {},
     "output_type": "execute_result"
    }
   ],
   "source": [
    "theta"
   ]
  },
  {
   "cell_type": "code",
   "execution_count": 39,
   "metadata": {},
   "outputs": [
    {
     "data": {
      "text/plain": [
       "((100, 3), (100, 1), (1, 3))"
      ]
     },
     "execution_count": 39,
     "metadata": {},
     "output_type": "execute_result"
    }
   ],
   "source": [
    "X.shape,y.shape,theta.shape"
   ]
  },
  {
   "cell_type": "code",
   "execution_count": 40,
   "metadata": {},
   "outputs": [],
   "source": [
    "np.random.shuffle(orig_data)  # 100个数据全部打乱"
   ]
  },
  {
   "cell_type": "code",
   "execution_count": 41,
   "metadata": {},
   "outputs": [],
   "source": [
    "test_data = np.vstack(orig_data[:10,:])  #测试集"
   ]
  },
  {
   "cell_type": "code",
   "execution_count": 42,
   "metadata": {},
   "outputs": [],
   "source": [
    "train_data = np.vstack(orig_data[10:100,:])  #训练集"
   ]
  },
  {
   "cell_type": "code",
   "execution_count": 43,
   "metadata": {},
   "outputs": [],
   "source": [
    "X = train_data[:, 2:cols - 1]  # 选择前三列\n",
    "y = train_data[:, cols - 1:cols]"
   ]
  },
  {
   "cell_type": "code",
   "execution_count": 44,
   "metadata": {},
   "outputs": [
    {
     "data": {
      "text/plain": [
       "array([[1. , 4.1, 1. ],\n",
       "       [1. , 3.8, 1.1],\n",
       "       [1. , 5.4, 2.1],\n",
       "       [1. , 6.9, 2.3],\n",
       "       [1. , 4.4, 1.4]])"
      ]
     },
     "execution_count": 44,
     "metadata": {},
     "output_type": "execute_result"
    }
   ],
   "source": [
    "X[:5]"
   ]
  },
  {
   "cell_type": "code",
   "execution_count": 45,
   "metadata": {},
   "outputs": [],
   "source": [
    "#损失函数\n",
    "def cost(X, y, theta):\n",
    "    left = np.multiply(-y, np.log(model(X, theta))) \n",
    "    right = np.multiply(1 - y, np.log(1 - model(X, theta)))  \n",
    "    return np.sum(left - right) / (len(X))"
   ]
  },
  {
   "cell_type": "code",
   "execution_count": 46,
   "metadata": {},
   "outputs": [
    {
     "data": {
      "text/plain": [
       "0.6931471805599454"
      ]
     },
     "execution_count": 46,
     "metadata": {},
     "output_type": "execute_result"
    }
   ],
   "source": [
    "cost(X, y, theta)"
   ]
  },
  {
   "cell_type": "code",
   "execution_count": 47,
   "metadata": {},
   "outputs": [],
   "source": [
    "# 计算梯度\n",
    "def gradient(X, y, theta):\n",
    "    grad = np.zeros(theta.shape)  \n",
    "    error = (model(X, theta) - y).ravel() \n",
    "    for j in range(len(theta.ravel())): \n",
    "        term = np.multiply(error, X[:, j])\n",
    "        grad[0, j] = np.sum(term) / len(X)\n",
    "\n",
    "    return grad"
   ]
  },
  {
   "cell_type": "code",
   "execution_count": 48,
   "metadata": {},
   "outputs": [],
   "source": [
    "#停止函数\n",
    "def stopCriterion(value, threshold):\n",
    "    return value > threshold"
   ]
  },
  {
   "cell_type": "code",
   "execution_count": 49,
   "metadata": {},
   "outputs": [],
   "source": [
    "#  打乱数据\n",
    "import numpy.random\n",
    "\n",
    "def shuffleData(data):\n",
    "    np.random.shuffle(data)\n",
    "    cols = data.shape[1]\n",
    "    X = data[:, 0:cols - 1]\n",
    "    y = data[:, cols - 1:]\n",
    "    return X, y"
   ]
  },
  {
   "cell_type": "code",
   "execution_count": 50,
   "metadata": {},
   "outputs": [],
   "source": [
    "# 求解梯度下降\n",
    "def descent(data, theta, batchSize, thresh, alpha):\n",
    "    \n",
    "    i = 0  # 设置迭代次数\n",
    "    k = 0  # batch\n",
    "    X, y = shuffleData(data)  # 打乱数据\n",
    "    grad = np.zeros(theta.shape)  # 计算初始的梯度\n",
    "    costs = [cost(X, y, theta)]  # 计算初始损失函数值\n",
    "\n",
    "    # 开始迭代\n",
    "    while True:\n",
    "        grad = gradient(X[k:k + batchSize], y[k:k + batchSize], theta)  # 求解梯度值\n",
    "        k += batchSize  # 取batch个数据\n",
    "        if k >= n: \n",
    "            k = 0\n",
    "            X, y = shuffleData(data)  \n",
    "        theta = theta - alpha * grad  # 更新参数 \n",
    "        costs.append(cost(X, y, theta))  \n",
    "        i += 1  # 更新循环变量\n",
    "\n",
    "        value = i\n",
    "        if stopCriterion( value, thresh):  # 停止跳出循环\n",
    "            break\n",
    "    return theta, i - 1, costs, grad\n"
   ]
  },
  {
   "cell_type": "code",
   "execution_count": 51,
   "metadata": {},
   "outputs": [],
   "source": [
    "# 绘制图像\n",
    "def runExpe(data, theta, batchSize,  thresh, alpha):\n",
    "    theta, iter, costs, grad = descent(data, theta, batchSize, thresh, alpha)  # 开始执行梯度下降\n",
    "   \n",
    "    fig, ax = plt.subplots(figsize=(12, 6)) \n",
    "    ax.plot(np.arange(len(costs)), costs, 'b')\n",
    "    ax.set_xlabel('Iterations')\n",
    "    ax.set_ylabel('Cost')\n",
    "    ax.set_title(' Loss function change Figure')\n",
    "    plt.show()\n",
    "    return theta"
   ]
  },
  {
   "cell_type": "code",
   "execution_count": 52,
   "metadata": {},
   "outputs": [
    {
     "data": {
      "image/png": "[encoded data removed]",
      "text/plain": [
       "<Figure size 864x432 with 1 Axes>"
      ]
     },
     "metadata": {
      "needs_background": "light"
     },
     "output_type": "display_data"
    }
   ],
   "source": [
    "n = 100\n",
    "train_data = train_data[:,2:cols] # 指定要输入的数据\n",
    "theta = runExpe(train_data, theta, n, thresh=20000, alpha=0.1)"
   ]
  },
  {
   "cell_type": "code",
   "execution_count": 53,
   "metadata": {},
   "outputs": [],
   "source": [
    "# 预测函数\n",
    "def predict(X, theta):\n",
    "    return [1 if x >= 0.5 else 0 for x in model(X, theta)]"
   ]
  },
  {
   "cell_type": "code",
   "execution_count": 54,
   "metadata": {},
   "outputs": [
    {
     "name": "stdout",
     "output_type": "stream",
     "text": [
      "accuracy = 80.0%\n"
     ]
    }
   ],
   "source": [
    "scaled_X = test_data[:, 2:5]  # 设置测试集输入\n",
    "y = test_data[:, 5]  # 正确值\n",
    "predictions = predict(scaled_X, theta)\n",
    "correct = [1 if ((a == 1 and b == 1) or (a == 0 and b == 0)) else 0 for (a, b) in zip(predictions, y)] #真实的种类\n",
    "accuracy = (sum(map(int, correct)) / len(correct)) * 100 # 正确率\n",
    "print('accuracy = {0}%'.format(accuracy))"
   ]
  }
 ],
 "metadata": {
  "kernelspec": {
   "display_name": "Python 3",
   "language": "python",
   "name": "python3"
  },
  "language_info": {
   "codemirror_mode": {
    "name": "ipython",
    "version": 3
   },
   "file_extension": ".py",
   "mimetype": "text/x-python",
   "name": "python",
   "nbconvert_exporter": "python",
   "pygments_lexer": "ipython3",
   "version": "3.7.0"
  }
 },
 "nbformat": 4,
 "nbformat_minor": 2
}
